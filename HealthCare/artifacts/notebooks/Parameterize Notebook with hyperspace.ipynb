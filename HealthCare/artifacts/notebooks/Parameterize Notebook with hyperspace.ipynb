{
  "metadata": {
    "language_info": {
      "name": "python"
    },
    "sessionKeepAliveTimeout": 30,
    "saveOutput": true
  },
  "nbformat": 4,
  "nbformat_minor": 2,
  "cells": [
   {
      "cell_type": "markdown",
      "metadata": {},
      "source": [
        "## *DISCLAIMER*\n",
        "<p style=\"font-size:16px; color:#117d30;\">\n",
        " By accessing this code, you acknowledge the code is made available for presentation and demonstration purposes only and that the code: (1) is not subject to SOC 1 and SOC 2 compliance audits; (2) is not designed or intended to be a substitute for the professional advice, diagnosis, treatment, or judgment of a certified financial services professional; (3) is not designed, intended or made available as a medical device; and (4) is not designed or intended to be a substitute for professional medical advice, diagnosis, treatment or judgement. Do not use this code to replace, substitute, or provide professional financial advice or judgment, or to replace, substitute or provide medical advice, diagnosis, treatment or judgement. You are solely responsible for ensuring the regulatory, legal, and/or contractual compliance of any use of the code, including obtaining any authorizations or consents, and any solution you choose to build that incorporates this code in whole or in part.\n",
        "</p>"
      ],
      "attachments": {}
    },
	{
      "cell_type": "markdown",
      "metadata": {},
      "source": [
        "## Important – Do not use in production, for demonstration purposes only – please review the legal notices before continuing\n License agreement: https://github.com/microsoft/Azure-Analytics-and-AI-Engagement/blob/main/HealthCare/License.md \n",
        ""
      ],
      "attachments": {}
    },
    {
      "cell_type": "markdown",
      "metadata": {},
      "source": [
        "## Legal Notices\n",
        "This presentation, demonstration, and demonstration model are for informational purposes only. Microsoft makes no warranties, express or implied, in this presentation demonstration, and demonstration model. Nothing in this presentation, demonstration, or demonstration model modifies any of the terms and conditions of Microsoft’s written and signed agreements. This is not an offer and applicable terms and the information provided is subject to revision and may be changed at any time by Microsoft.\n",
        "\n",
        "This presentation, demonstration, and/or demonstration model do not give you or your organization any license to any patents, trademarks, copyrights, or other intellectual property covering the subject matter in this presentation, demonstration, and demonstration model.\n",
        "\n",
        "The information contained in this presentation, demonstration and demonstration model represent the current view of Microsoft on the issues discussed as of the date of presentation and/or demonstration, and the duration of your access to the demonstration model. Because Microsoft must respond to changing market conditions, it should not be interpreted to be a commitment on the part of Microsoft, and Microsoft cannot guarantee the accuracy of any information presented after the date of presentation and/or demonstration and for the duration of your access to the demonstration model.\n",
        "\n",
        "No Microsoft technology, nor any of its component technologies, including the demonstration model, is intended or made available: (1) as a medical device; (2) for the diagnosis of disease or other conditions, or in the cure, mitigation, treatment or prevention of a disease or other conditions; or (3) as a substitute for the professional clinical advice, opinion, or judgment of a treating healthcare professional. Partners or customers are responsible for ensuring the regulatory compliance of any solution they build using Microsoft technologies.\n",
        "\n",
        "© 2020 Microsoft Corporation. All rights reserved\n",
        ""
      ],
      "attachments": {}
    },
    {
      "cell_type": "markdown",
      "metadata": {},
      "source": [
        "## Please don't run / don't click \"Run all\" the notebook:\n",
        "At the time of writing of this document, the current core limit is 200 cores per workspace and depending upon number of concurrent users, you may end up with core capacity being exceeded or maximum number of parallel jobs being exceeded error.         \n",
        "\n",
        ""
      ],
      "attachments": {}
    },
    {
      "cell_type": "code",
      "execution_count": 31,
      "outputs": [],
      "metadata": {
        "tags": [
          "parameters"
        ]
      },
      "source": [
        "fil=\"abfss://iomt-data@#STORAGE_ACCOUNT_NAME#.dfs.core.windows.net/test.csv\""
      ],
      "attachments": {}
    },
    {
      "cell_type": "code",
      "execution_count": 32,
      "outputs": [],
      "metadata": {
        "tags": [],
        "diagram": {
          "activateDiagramType": 1,
          "chartConfig": {
            "category": "bar",
            "keys": [
              "patientId"
            ],
            "values": [
              "patientId"
            ],
            "yLabel": "patientId",
            "xLabel": "patientId",
            "aggregation": "COUNT",
            "aggByBackend": false
          },
          "aggData": "\"{\\\"patientId\\\":{\\\"0058a52a-235c-11eb-be74-70b5e8b8edbb\\\":5}}\"",
          "isSummary": false,
          "previewData": {
            "filter": null
          },
          "isSql": false
        }
      },
      "source": [
        "df = spark.read.load(fil, format='csv',header=True)"
      ]
    },
    {
      "cell_type": "markdown",
      "metadata": {},
      "source": [
        "**Set Up HyperSpace**\n",
        ""
      ],
      "attachments": {}
    },
    {
      "cell_type": "code",
      "execution_count": 33,
      "outputs": [],
      "metadata": {},
      "source": [
        "from hyperspace import *\n",
        "hs=Hyperspace(spark)"
      ],
      "attachments": {}
    },
    {
      "cell_type": "code",
      "execution_count": 36,
      "outputs": [],
      "metadata": {},
      "source": [
        "#Soft-delete the given index for vacuum.\n",
        "hs.deleteIndex(\"index\")\n",
        "#Hard-delete the given index and physically remove it from filesystem.\n",
        "hs.vacuumIndex(\"index\")"
      ],
      "attachments": {}
    },
    {
      "cell_type": "code",
      "execution_count": 37,
      "outputs": [],
      "metadata": {},
      "source": [
        "from hyperspace import IndexConfig\n",
        "hs.createIndex(df, IndexConfig(\"index\", [\"PatientId\"], [\"BodyTemperature\"]))"
      ],
      "attachments": {}
    },
    {
      "cell_type": "code",
      "execution_count": 8,
      "outputs": [
        {
          "execution_count": 8,
          "output_type": "execute_result",
          "data": {
            "application/json": {
              "table": {
                "rows": [
                  {
                    "name": "index",
                    "state": "ACTIVE",
                    "indexLocation": "abfss://healthcare@#STORAGE_ACCOUNT_NAME#.dfs.core.windows.net/synapse/workspaces/#WORKSPACE_NAME#/warehouse/indexes/index/v__=0",
                    "schema": "{\"type\":\"struct\",\"fields\":[{\"name\":\"patientId\",\"type\":\"string\",\"nullable\":true,\"metadata\":{}},{\"name\":\"bodyTemperature\",\"type\":\"string\",\"nullable\":true,\"metadata\":{}}]}",
                    "numBuckets": 200,
                    "indexedColumns": [
                      "patientId"
                    ],
                    "includedColumns": [
                      "bodyTemperature"
                    ]
                  }
                ],
                "schema": {
                  "name": "string",
                  "indexedColumns": "ArrayType(StringType,true)",
                  "includedColumns": "ArrayType(StringType,true)",
                  "numBuckets": "int",
                  "schema": "string",
                  "indexLocation": "string",
                  "state": "string"
                }
              },
              "isSummary": false,
              "language": "scala"
            }
          },
          "metadata": {}
        }
      ],
      "metadata": {
        "diagram": {
          "activateDiagramType": 1,
          "chartConfig": {
            "category": "bar",
            "keys": [
              "name"
            ],
            "values": [
              "numBuckets"
            ],
            "yLabel": "numBuckets",
            "xLabel": "name",
            "aggregation": "SUM",
            "aggByBackend": false
          },
          "aggData": "\"{\\\"numBuckets\\\":{\\\"index\\\":200}}\"",
          "isSummary": false,
          "previewData": {
            "filter": null
          },
          "isSql": false
        }
      },
      "source": [
        "display(hs.indexes())"
      ],
      "attachments": {}
    },
    {
      "cell_type": "code",
      "execution_count": 38,
      "outputs": [
        {
          "execution_count": 38,
          "output_type": "execute_result",
          "data": {
            "text/plain": "+--------------------+----------+--------------------+---------------+---------+-------------+----+----------------+-----------------+-------------+------------+--------------------------+--------+---+---------------------+--------------------+--------------------+--------------------+--------------------+------------+----------+\n|           patientId|patientAge|            datetime|bodyTemperature|heartRate|breathingRate|spo2|systolicPressure|diastolicPressure|numberOfSteps|activityTime|numberOfTimesPersonStoodUp|calories|vo2|SyntheticPartitionKey|                  id|                _rid|               _self|               _etag|_attachments|       _ts|\n+--------------------+----------+--------------------+---------------+---------+-------------+----+----------------+-----------------+-------------+------------+--------------------------+--------+---+---------------------+--------------------+--------------------+--------------------+--------------------+------------+----------+\n|0058a52a-235c-11e...|        42|2020-08-12 21:26:...|           97.5|      157|           47|  99|             119|               79|         2685|          49|                        19|    2695| 35| 0058a52a-235c-11e...|a475a924-8d1a-452...|QIAdAIghjhMBAAAAA...|dbs/QIAdAA==/coll...|\"92054801-0000-08...|attachments/|1605025665|\n|0058a52a-235c-11e...|        42|2020-08-12 21:21:...|           98.7|      147|          124|  94|             108|               72|         4639|         206|                         3|    2922| 35| 0058a52a-235c-11e...|47dde1df-3c0c-486...|QIAdAIghjhMCAAAAA...|dbs/QIAdAA==/coll...|\"92054901-0000-08...|attachments/|1605025665|\n|0058a52a-235c-11e...|        42|2020-08-12 21:01:...|           97.4|       82|           97|  99|             107|               71|        11649|         164|                        24|    2399| 33| 0058a52a-235c-11e...|4d395a02-4916-474...|QIAdAIghjhMDAAAAA...|dbs/QIAdAA==/coll...|\"92054a01-0000-08...|attachments/|1605025665|\n|0058a52a-235c-11e...|        42|2020-08-12 22:06:...|           98.6|       59|          159|  98|             105|               70|         4504|          53|                        24|    2682| 52| 0058a52a-235c-11e...|1430158a-09e6-4a8...|QIAdAIghjhMEAAAAA...|dbs/QIAdAA==/coll...|\"92054b01-0000-08...|attachments/|1605025665|\n|0058a52a-235c-11e...|        42|2020-08-12 20:56:...|           97.1|      130|           34|  98|             116|               77|         5954|         272|                        23|    2636| 32| 0058a52a-235c-11e...|c6204236-4b19-410...|QIAdAIghjhMFAAAAA...|dbs/QIAdAA==/coll...|\"92054c01-0000-08...|attachments/|1605025665|\n+--------------------+----------+--------------------+---------------+---------+-------------+----+----------------+-----------------+-------------+------------+--------------------------+--------+---+---------------------+--------------------+--------------------+--------------------+--------------------+------------+----------+"
          },
          "metadata": {}
        }
      ],
      "metadata": {},
      "source": [
        "Hyperspace.enable(spark)\n",
        "df.show()"
      ],
      "attachments": {}
    },
    {
      "cell_type": "code",
      "execution_count": 39,
      "outputs": [],
      "metadata": {},
      "source": [
        "df = df.filter(\"PatientId = '0058a52a-235c-11eb-be74-70b5e8b8edbb'\").select(\"PatientId\",\"BodyTemperature\")"
      ],
      "attachments": {}
    },
    {
      "cell_type": "code",
      "execution_count": 40,
      "outputs": [
        {
          "execution_count": 40,
          "output_type": "execute_result",
          "data": {
            "text/plain": "=============================================================\nPlan with indexes:\n=============================================================\nProject [PatientId#476, BodyTemperature#479]\n+- Filter (isnotnull(PatientId#476) && (PatientId#476 = 0058a52a-235c-11eb-be74-70b5e8b8edbb))\n   <----+- FileScan parquet [patientId#476,bodyTemperature#479] Batched: true, Format: Parquet, Location: InMemoryFileIndex[abfss://healthcare@#STORAGE_ACCOUNT_NAME#.dfs.core.windows.net/synapse/workspaces/syn..., PartitionFilters: [], PushedFilters: [IsNotNull(patientId), EqualTo(patientId,0058a52a-235c-11eb-be74-70b5e8b8edbb)], ReadSchema: struct<patientId:string,bodyTemperature:string>---->\n\n=============================================================\nPlan without indexes:\n=============================================================\nProject [PatientId#476, BodyTemperature#479]\n+- Filter (isnotnull(PatientId#476) && (PatientId#476 = 0058a52a-235c-11eb-be74-70b5e8b8edbb))\n   <----+- FileScan csv [patientId#476,bodyTemperature#479] Batched: false, Format: CSV, Location: InMemoryFileIndex[abfss://iomt-data@#STORAGE_ACCOUNT_NAME#.dfs.core.windows.net/test.csv], PartitionFilters: [], PushedFilters: [IsNotNull(patientId), EqualTo(patientId,0058a52a-235c-11eb-be74-70b5e8b8edbb)], ReadSchema: struct<patientId:string,bodyTemperature:string>---->\n\n=============================================================\nIndexes used:\n=============================================================\nindex:abfss://healthcare@#STORAGE_ACCOUNT_NAME#.dfs.core.windows.net/synapse/workspaces/#WORKSPACE_NAME#/warehouse/indexes/index/v__=0\n\n=============================================================\nPhysical operator stats:\n=============================================================\n+-----------------+-------------------+------------------+----------+\n|Physical Operator|Hyperspace Disabled|Hyperspace Enabled|Difference|\n+-----------------+-------------------+------------------+----------+\n|        *Scan csv|                  1|                 0|        -1|\n|    *Scan parquet|                  0|                 1|         1|\n|           Filter|                  1|                 1|         0|\n|          Project|                  1|                 1|         0|\n|WholeStageCodegen|                  1|                 1|         0|\n+-----------------+-------------------+------------------+----------+"
          },
          "metadata": {}
        }
      ],
      "metadata": {},
      "source": [
        "hs.explain(df, verbose = True)"
      ],
      "attachments": {}
    },
    {
      "cell_type": "markdown",
      "metadata": {},
      "source": [
        "## Data Transformation\n",
        ""
      ],
      "attachments": {}
    },
    {
      "cell_type": "code",
      "execution_count": 41,
      "outputs": [
        {
          "execution_count": 41,
          "output_type": "execute_result",
          "data": {
            "text/plain": "PatientId BodyTemperature\n0  0058a52a-235c-11eb-be74-70b5e8b8edbb            97.5\n1  0058a52a-235c-11eb-be74-70b5e8b8edbb            98.7\n2  0058a52a-235c-11eb-be74-70b5e8b8edbb            97.4\n3  0058a52a-235c-11eb-be74-70b5e8b8edbb            98.6\n4  0058a52a-235c-11eb-be74-70b5e8b8edbb            97.1"
          },
          "metadata": {}
        }
      ],
      "metadata": {},
      "source": [
        "%%pyspark\n",
        "from pyspark.sql.functions import *\n",
        "from pyspark.sql.types import *\n",
        "\n",
        "import numpy as np\n",
        "pd_df = df.select(\"PatientId\",\"BodyTemperature\").toPandas()\n",
        "pd_df.groupby(['PatientId'])\n",
        "print(pd_df)"
      ],
      "attachments": {}
    },
    {
      "cell_type": "code",
      "execution_count": 42,
      "outputs": [
        {
          "execution_count": 42,
          "output_type": "execute_result",
          "data": {
            "text/plain": "PatientId BodyTemperature\n0  0058a52a-235c-11eb-be74-70b5e8b8edbb            97.5\n1  0058a52a-235c-11eb-be74-70b5e8b8edbb            98.7\n2  0058a52a-235c-11eb-be74-70b5e8b8edbb            97.4\n3  0058a52a-235c-11eb-be74-70b5e8b8edbb            98.6\n4  0058a52a-235c-11eb-be74-70b5e8b8edbb            97.1"
          },
          "metadata": {}
        }
      ],
      "metadata": {},
      "source": [
        "%%pyspark\n",
        "from pyspark.sql.functions import *\n",
        "from pyspark.sql.types import *\n",
        "\n",
        "import numpy as np\n",
        "pd_df = df.select(\"PatientId\",\"BodyTemperature\").toPandas()\n",
        "pd_df.groupby(['PatientId','BodyTemperature']).sum()\n",
        "\n",
        "pd_df.head(10)"
      ],
      "attachments": {}
    },
    {
      "cell_type": "code",
      "execution_count": 17,
      "outputs": [
        {
          "execution_count": 17,
          "output_type": "execute_result",
          "data": {
            "text/plain": "+--------------------+----------+---------------+---------+-------------+-------------+--------+\n|           PatientId|PatientAge|BodyTemperature|HeartRate|BreathingRate|numberOfSteps|Calories|\n+--------------------+----------+---------------+---------+-------------+-------------+--------+\n|0058a52a-235c-11e...|        42|           97.5|      157|           47|         2685|    2695|\n|0058a52a-235c-11e...|        42|           98.7|      147|          124|         4639|    2922|\n|0058a52a-235c-11e...|        42|           97.4|       82|           97|        11649|    2399|\n|0058a52a-235c-11e...|        42|           98.6|       59|          159|         4504|    2682|\n|0058a52a-235c-11e...|        42|           97.1|      130|           34|         5954|    2636|\n+--------------------+----------+---------------+---------+-------------+-------------+--------+\nonly showing top 5 rows"
          },
          "metadata": {}
        }
      ],
      "metadata": {},
      "source": [
        "%%pyspark\n",
        "df = spark.createDataFrame(pd_df)\n",
        "df.show(5)\n",
        "\n",
        "(df\n",
        " .coalesce(1)\n",
        " .write\n",
        " .mode(\"overwrite\")\n",
        " .option(\"header\", \"true\")\n",
        " .format(\"com.databricks.spark.csv\")\n",
        " .save('abfss://iomt-data@#STORAGE_ACCOUNT_NAME#.dfs.core.windows.net/iomtData'))\n",
        ""
      ],
      "attachments": {}
    }
  ]
}