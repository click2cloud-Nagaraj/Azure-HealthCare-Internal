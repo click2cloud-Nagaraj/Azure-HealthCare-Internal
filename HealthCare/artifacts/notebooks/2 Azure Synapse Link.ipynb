{
  "metadata": {
    "language_info": {
      "name": "python"
    },
    "sessionKeepAliveTimeout": 30,
    "saveOutput": true
  },
  "nbformat": 4,
  "nbformat_minor": 2,
  "cells": [
   {
      "cell_type": "markdown",
      "metadata": {},
      "source": [
        "## *DISCLAIMER*\n",
        "<p style=\"font-size:16px; color:#117d30;\">\n",
        " By accessing this code, you acknowledge the code is made available for presentation and demonstration purposes only and that the code: (1) is not subject to SOC 1 and SOC 2 compliance audits; (2) is not designed or intended to be a substitute for the professional advice, diagnosis, treatment, or judgment of a certified financial services professional; (3) is not designed, intended or made available as a medical device; and (4) is not designed or intended to be a substitute for professional medical advice, diagnosis, treatment or judgement. Do not use this code to replace, substitute, or provide professional financial advice or judgment, or to replace, substitute or provide medical advice, diagnosis, treatment or judgement. You are solely responsible for ensuring the regulatory, legal, and/or contractual compliance of any use of the code, including obtaining any authorizations or consents, and any solution you choose to build that incorporates this code in whole or in part.\n",
        "</p>"
      ],
      "attachments": {}
    },
	{
      "cell_type": "markdown",
      "metadata": {},
      "source": [
        "## Important – Do not use in production, for demonstration purposes only – please review the legal notices before continuing\n License agreement: https://github.com/microsoft/Azure-Analytics-and-AI-Engagement/blob/main/HealthCare/License.md \n",
        ""
      ],
      "attachments": {}
    },
    {
      "cell_type": "markdown",
      "metadata": {},
      "source": [
        "## Legal Notices\n",
        "This presentation, demonstration, and demonstration model are for informational purposes only. Microsoft makes no warranties, express or implied, in this presentation demonstration, and demonstration model. Nothing in this presentation, demonstration, or demonstration model modifies any of the terms and conditions of Microsoft’s written and signed agreements. This is not an offer and applicable terms and the information provided is subject to revision and may be changed at any time by Microsoft.\n",
        "\n",
        "This presentation, demonstration, and/or demonstration model do not give you or your organization any license to any patents, trademarks, copyrights, or other intellectual property covering the subject matter in this presentation, demonstration, and demonstration model.\n",
        "\n",
        "The information contained in this presentation, demonstration and demonstration model represent the current view of Microsoft on the issues discussed as of the date of presentation and/or demonstration, and the duration of your access to the demonstration model. Because Microsoft must respond to changing market conditions, it should not be interpreted to be a commitment on the part of Microsoft, and Microsoft cannot guarantee the accuracy of any information presented after the date of presentation and/or demonstration and for the duration of your access to the demonstration model.\n",
        "\n",
        "No Microsoft technology, nor any of its component technologies, including the demonstration model, is intended or made available: (1) as a medical device; (2) for the diagnosis of disease or other conditions, or in the cure, mitigation, treatment or prevention of a disease or other conditions; or (3) as a substitute for the professional clinical advice, opinion, or judgment of a treating healthcare professional. Partners or customers are responsible for ensuring the regulatory compliance of any solution they build using Microsoft technologies.\n",
        "\n",
        "© 2020 Microsoft Corporation. All rights reserved\n",
        ""
      ],
      "attachments": {}
    },
    {
      "cell_type": "code",
      "execution_count": 1,
      "outputs": [
        {
          "execution_count": 1,
          "output_type": "execute_result",
          "data": {
            "application/json": {
              "table": {
                "rows": [
                  {
                    "numberOfSteps": 4639,
                    "patientAge": 42,
                    "calories": 2922,
                    "patientId": "0058a52a-235c-11eb-be74-70b5e8b8edbb",
                    "datetime": "2020-08-12 21:21:11.861536",
                    "diastolicPressure": 72,
                    "breathingRate": 124,
                    "vo2": 35,
                    "SyntheticPartitionKey": "0058a52a-235c-11eb-be74-70b5e8b8edbb_2020-08-12",
                    "id": "47dde1df-3c0c-4863-8767-5b936b5cfb28",
                    "systolicPressure": 108,
                    "numberOfTimesPersonStoodUp": 3,
                    "heartRate": 147,
                    "_etag": "\"92054901-0000-0800-0000-5faabf810000\"",
                    "_rid": "QIAdAIghjhMCAAAAAAAAAA==",
                    "bodyTemperature": 98.7,
                    "activityTime": 206,
                    "spo2": 94,
                    "_ts": 1605025665
                  },
                  {
                    "numberOfSteps": 2685,
                    "patientAge": 42,
                    "calories": 2695,
                    "patientId": "0058a52a-235c-11eb-be74-70b5e8b8edbb",
                    "datetime": "2020-08-12 21:26:11.861536",
                    "diastolicPressure": 79,
                    "breathingRate": 47,
                    "vo2": 35,
                    "SyntheticPartitionKey": "0058a52a-235c-11eb-be74-70b5e8b8edbb_2020-08-12",
                    "id": "a475a924-8d1a-452a-8689-108ef036e23d",
                    "systolicPressure": 119,
                    "numberOfTimesPersonStoodUp": 19,
                    "heartRate": 157,
                    "_etag": "\"92054801-0000-0800-0000-5faabf810000\"",
                    "_rid": "QIAdAIghjhMBAAAAAAAAAA==",
                    "bodyTemperature": 97.5,
                    "activityTime": 49,
                    "spo2": 99,
                    "_ts": 1605025665
                  },
                  {
                    "numberOfSteps": 11649,
                    "patientAge": 42,
                    "calories": 2399,
                    "patientId": "0058a52a-235c-11eb-be74-70b5e8b8edbb",
                    "datetime": "2020-08-12 21:01:11.861536",
                    "diastolicPressure": 71,
                    "breathingRate": 97,
                    "vo2": 33,
                    "SyntheticPartitionKey": "0058a52a-235c-11eb-be74-70b5e8b8edbb_2020-08-12",
                    "id": "4d395a02-4916-4742-b93a-f1f0a40cc656",
                    "systolicPressure": 107,
                    "numberOfTimesPersonStoodUp": 24,
                    "heartRate": 82,
                    "_etag": "\"92054a01-0000-0800-0000-5faabf810000\"",
                    "_rid": "QIAdAIghjhMDAAAAAAAAAA==",
                    "bodyTemperature": 97.4,
                    "activityTime": 164,
                    "spo2": 99,
                    "_ts": 1605025665
                  },
                  {
                    "numberOfSteps": 4504,
                    "patientAge": 42,
                    "calories": 2682,
                    "patientId": "0058a52a-235c-11eb-be74-70b5e8b8edbb",
                    "datetime": "2020-08-12 22:06:11.861536",
                    "diastolicPressure": 70,
                    "breathingRate": 159,
                    "vo2": 52,
                    "SyntheticPartitionKey": "0058a52a-235c-11eb-be74-70b5e8b8edbb_2020-08-12",
                    "id": "1430158a-09e6-4a84-b925-51eb87f211f8",
                    "systolicPressure": 105,
                    "numberOfTimesPersonStoodUp": 24,
                    "heartRate": 59,
                    "_etag": "\"92054b01-0000-0800-0000-5faabf810000\"",
                    "_rid": "QIAdAIghjhMEAAAAAAAAAA==",
                    "bodyTemperature": 98.6,
                    "activityTime": 53,
                    "spo2": 98,
                    "_ts": 1605025665
                  },
                  {
                    "numberOfSteps": 5954,
                    "patientAge": 42,
                    "calories": 2636,
                    "patientId": "0058a52a-235c-11eb-be74-70b5e8b8edbb",
                    "datetime": "2020-08-12 20:56:11.861536",
                    "diastolicPressure": 77,
                    "breathingRate": 34,
                    "vo2": 32,
                    "SyntheticPartitionKey": "0058a52a-235c-11eb-be74-70b5e8b8edbb_2020-08-12",
                    "id": "c6204236-4b19-410a-b942-28035ca1640d",
                    "systolicPressure": 116,
                    "numberOfTimesPersonStoodUp": 23,
                    "heartRate": 130,
                    "_etag": "\"92054c01-0000-0800-0000-5faabf810000\"",
                    "_rid": "QIAdAIghjhMFAAAAAAAAAA==",
                    "bodyTemperature": 97.1,
                    "activityTime": 272,
                    "spo2": 98,
                    "_ts": 1605025665
                  },
                  {
                    "numberOfSteps": 5577,
                    "patientAge": 42,
                    "calories": 2045,
                    "patientId": "0058a52a-235c-11eb-be74-70b5e8b8edbb",
                    "datetime": "2020-08-12 21:11:11.861536",
                    "diastolicPressure": 74,
                    "breathingRate": 106,
                    "vo2": 33,
                    "SyntheticPartitionKey": "0058a52a-235c-11eb-be74-70b5e8b8edbb_2020-08-12",
                    "id": "97e2d88e-3e7e-4268-8cc0-d0dbafbffea6",
                    "systolicPressure": 112,
                    "numberOfTimesPersonStoodUp": 15,
                    "heartRate": 57,
                    "_etag": "\"92054d01-0000-0800-0000-5faabf810000\"",
                    "_rid": "QIAdAIghjhMGAAAAAAAAAA==",
                    "bodyTemperature": 98.7,
                    "activityTime": 40,
                    "spo2": 96,
                    "_ts": 1605025665
                  },
                  {
                    "numberOfSteps": 5389,
                    "patientAge": 42,
                    "calories": 2576,
                    "patientId": "0058a52a-235c-11eb-be74-70b5e8b8edbb",
                    "datetime": "2020-08-12 22:21:11.861536",
                    "diastolicPressure": 64,
                    "breathingRate": 123,
                    "vo2": 53,
                    "SyntheticPartitionKey": "0058a52a-235c-11eb-be74-70b5e8b8edbb_2020-08-12",
                    "id": "8942cc95-bb54-4538-aaf9-286d473235c8",
                    "systolicPressure": 97,
                    "numberOfTimesPersonStoodUp": 5,
                    "heartRate": 155,
                    "_etag": "\"92054e01-0000-0800-0000-5faabf810000\"",
                    "_rid": "QIAdAIghjhMHAAAAAAAAAA==",
                    "bodyTemperature": 98.7,
                    "activityTime": 189,
                    "spo2": 98,
                    "_ts": 1605025665
                  },
                  {
                    "numberOfSteps": 2654,
                    "patientAge": 42,
                    "calories": 2872,
                    "patientId": "0058a52a-235c-11eb-be74-70b5e8b8edbb",
                    "datetime": "2020-08-12 22:56:11.861536",
                    "diastolicPressure": 72,
                    "breathingRate": 152,
                    "vo2": 40,
                    "SyntheticPartitionKey": "0058a52a-235c-11eb-be74-70b5e8b8edbb_2020-08-12",
                    "id": "b7c70d1f-298a-4203-a25e-66391b40ac98",
                    "systolicPressure": 109,
                    "numberOfTimesPersonStoodUp": 7,
                    "heartRate": 116,
                    "_etag": "\"92054f01-0000-0800-0000-5faabf810000\"",
                    "_rid": "QIAdAIghjhMIAAAAAAAAAA==",
                    "bodyTemperature": 98.2,
                    "activityTime": 250,
                    "spo2": 95,
                    "_ts": 1605025665
                  },
                  {
                    "numberOfSteps": 5365,
                    "patientAge": 42,
                    "calories": 2713,
                    "patientId": "0058a52a-235c-11eb-be74-70b5e8b8edbb",
                    "datetime": "2020-08-12 22:31:11.861536",
                    "diastolicPressure": 72,
                    "breathingRate": 62,
                    "vo2": 45,
                    "SyntheticPartitionKey": "0058a52a-235c-11eb-be74-70b5e8b8edbb_2020-08-12",
                    "id": "1f00e726-4d02-418d-a034-e70a3e04084f",
                    "systolicPressure": 108,
                    "numberOfTimesPersonStoodUp": 12,
                    "heartRate": 91,
                    "_etag": "\"92055001-0000-0800-0000-5faabf810000\"",
                    "_rid": "QIAdAIghjhMJAAAAAAAAAA==",
                    "bodyTemperature": 97.9,
                    "activityTime": 94,
                    "spo2": 94,
                    "_ts": 1605025665
                  },
                  {
                    "numberOfSteps": 4740,
                    "patientAge": 42,
                    "calories": 2087,
                    "patientId": "0058a52a-235c-11eb-be74-70b5e8b8edbb",
                    "datetime": "2020-08-12 23:01:11.861536",
                    "diastolicPressure": 74,
                    "breathingRate": 127,
                    "vo2": 53,
                    "SyntheticPartitionKey": "0058a52a-235c-11eb-be74-70b5e8b8edbb_2020-08-12",
                    "id": "cb9737a1-0632-4738-ae6f-0acf340f1b46",
                    "systolicPressure": 112,
                    "numberOfTimesPersonStoodUp": 11,
                    "heartRate": 117,
                    "_etag": "\"92055101-0000-0800-0000-5faabf810000\"",
                    "_rid": "QIAdAIghjhMKAAAAAAAAAA==",
                    "bodyTemperature": 97.6,
                    "activityTime": 214,
                    "spo2": 96,
                    "_ts": 1605025665
                  }
                ],
                "schema": {
                  "_rid": "string",
                  "_ts": "bigint",
                  "patientId": "string",
                  "patientAge": "bigint",
                  "datetime": "string",
                  "bodyTemperature": "double",
                  "heartRate": "bigint",
                  "breathingRate": "bigint",
                  "spo2": "bigint",
                  "systolicPressure": "bigint",
                  "diastolicPressure": "bigint",
                  "numberOfSteps": "bigint",
                  "activityTime": "bigint",
                  "numberOfTimesPersonStoodUp": "bigint",
                  "calories": "bigint",
                  "vo2": "bigint",
                  "SyntheticPartitionKey": "string",
                  "id": "string",
                  "_etag": "string"
                }
              },
              "isSummary": false,
              "language": "scala"
            }
          },
          "metadata": {}
        }
      ],
      "metadata": {
        "diagram": {
          "activateDiagramType": 1,
          "chartConfig": {
            "category": "bar",
            "keys": [
              "_rid"
            ],
            "values": [
              "_ts"
            ],
            "yLabel": "_ts",
            "xLabel": "_rid",
            "aggregation": "SUM",
            "aggByBackend": false
          },
          "aggData": "\"{\\\"_ts\\\":{\\\"QIAdAIghjhMBAAAAAAAAAA==\\\":1605025665,\\\"QIAdAIghjhMCAAAAAAAAAA==\\\":1605025665,\\\"QIAdAIghjhMDAAAAAAAAAA==\\\":1605025665,\\\"QIAdAIghjhMEAAAAAAAAAA==\\\":1605025665,\\\"QIAdAIghjhMFAAAAAAAAAA==\\\":1605025665,\\\"QIAdAIghjhMGAAAAAAAAAA==\\\":1605025665,\\\"QIAdAIghjhMHAAAAAAAAAA==\\\":1605025665,\\\"QIAdAIghjhMIAAAAAAAAAA==\\\":1605025665,\\\"QIAdAIghjhMJAAAAAAAAAA==\\\":1605025665,\\\"QIAdAIghjhMKAAAAAAAAAA==\\\":1605025665}}\"",
          "isSummary": false,
          "previewData": {
            "filter": null
          },
          "isSql": false
        }
      },
      "source": [
        "# Read from Cosmos DB analytical store into a Spark DataFrame and display 10 rows from the DataFrame\n",
        "# To select a preferred list of regions in a multi-region Cosmos DB account, add .option(\"spark.cosmos.preferredRegions\", \"<Region1>,<Region2>\")\n",
        "\n",
        "df = spark.read\\\n",
        "    .format(\"cosmos.olap\")\\\n",
        "    .option(\"spark.synapse.linkedService\", \"HealthCareCosmosDb\")\\\n",
        "    .option(\"spark.cosmos.container\", \"LiveDataStream\")\\\n",
        "    .load()\n",
        "\n",
        "display(df.limit(10))"
      ]
    }
  ]
}