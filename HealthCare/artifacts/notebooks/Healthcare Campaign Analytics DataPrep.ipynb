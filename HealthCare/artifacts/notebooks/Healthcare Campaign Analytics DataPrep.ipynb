{
  "metadata": {
    "language_info": {
      "name": "python"
    },
    "sessionKeepAliveTimeout": 30,
    "saveOutput": true
  },
  "nbformat": 4,
  "nbformat_minor": 2,
  "cells": [
   {
      "cell_type": "markdown",
      "metadata": {},
      "source": [
        "## *DISCLAIMER*\n",
        "<p style=\"font-size:16px; color:#117d30;\">\n",
        " By accessing this code, you acknowledge the code is made available for presentation and demonstration purposes only and that the code: (1) is not subject to SOC 1 and SOC 2 compliance audits; (2) is not designed or intended to be a substitute for the professional advice, diagnosis, treatment, or judgment of a certified financial services professional; (3) is not designed, intended or made available as a medical device; and (4) is not designed or intended to be a substitute for professional medical advice, diagnosis, treatment or judgement. Do not use this code to replace, substitute, or provide professional financial advice or judgment, or to replace, substitute or provide medical advice, diagnosis, treatment or judgement. You are solely responsible for ensuring the regulatory, legal, and/or contractual compliance of any use of the code, including obtaining any authorizations or consents, and any solution you choose to build that incorporates this code in whole or in part.\n",
        "</p>"
      ],
      "attachments": {}
    },
	{
      "cell_type": "markdown",
      "metadata": {},
      "source": [
        "## Important – Do not use in production, for demonstration purposes only – please review the legal notices before continuing\n License agreement: https://github.com/microsoft/Azure-Analytics-and-AI-Engagement/blob/main/HealthCare/License.md \n",
        ""
      ],
      "attachments": {}
    },
    {
      "cell_type": "markdown",
      "metadata": {},
      "source": [
        "## Legal Notices\n",
        "This presentation, demonstration, and demonstration model are for informational purposes only. Microsoft makes no warranties, express or implied, in this presentation demonstration, and demonstration model. Nothing in this presentation, demonstration, or demonstration model modifies any of the terms and conditions of Microsoft’s written and signed agreements. This is not an offer and applicable terms and the information provided is subject to revision and may be changed at any time by Microsoft.\n",
        "\n",
        "This presentation, demonstration, and/or demonstration model do not give you or your organization any license to any patents, trademarks, copyrights, or other intellectual property covering the subject matter in this presentation, demonstration, and demonstration model.\n",
        "\n",
        "The information contained in this presentation, demonstration and demonstration model represent the current view of Microsoft on the issues discussed as of the date of presentation and/or demonstration, and the duration of your access to the demonstration model. Because Microsoft must respond to changing market conditions, it should not be interpreted to be a commitment on the part of Microsoft, and Microsoft cannot guarantee the accuracy of any information presented after the date of presentation and/or demonstration and for the duration of your access to the demonstration model.\n",
        "\n",
        "No Microsoft technology, nor any of its component technologies, including the demonstration model, is intended or made available: (1) as a medical device; (2) for the diagnosis of disease or other conditions, or in the cure, mitigation, treatment or prevention of a disease or other conditions; or (3) as a substitute for the professional clinical advice, opinion, or judgment of a treating healthcare professional. Partners or customers are responsible for ensuring the regulatory compliance of any solution they build using Microsoft technologies.\n",
        "\n",
        "© 2020 Microsoft Corporation. All rights reserved\n",
        ""
      ],
      "attachments": {}
    },
    {
      "cell_type": "markdown",
      "metadata": {},
      "source": [
        "## Please don't run / don't click \"Run all\" the notebook:\n",
        "At the time of writing of this document, the current core limit is 200 cores per workspace and depending upon number of concurrent users, you may end up with core capacity being exceeded or maximum number of parallel jobs being exceeded error. \n",
        "## Fetch Marketing Campaigns data into DataFrame and Calculate Revenue Variance        "
      ],
      "attachments": {}
    },
    {
      "cell_type": "code",
      "execution_count": 1,
      "outputs": [
        {
          "execution_count": 1,
          "output_type": "execute_result",
          "data": {
            "text/plain": "+-------------------+-------+---------------+-----------+--------------+-----------+----------+------+\n|             Region|Country|  Campaign_Name|    Revenue|Revenue_Target|       City|     State|RoleID|\n+-------------------+-------+---------------+-----------+--------------+-----------+----------+------+\n|         South East|     US|Patient Stories|$11,564.00 |   $19,306.00 |      Miami|   Florida|  NULL|\n|Southern California|     US|  For Your Life| $6,497.00 |    $6,147.00 |Los Angeles|California|  NULL|\n|         South East|     US|  Hit the track|$11,620.00 |   $17,230.00 |      Miami|   Florida|    20|\n|         South East|     US|Patient Stories| $9,963.00 |   $18,377.00 |      Miami|   Florida|  NULL|\n|Southern California|     US|  For Your Life|$16,850.00 |   $15,753.00 |Los Angeles|California|  NULL|\n|         South East|     US|  Hit the track| $5,333.00 |    $7,346.00 |      Miami|   Florida|    20|\n|         South East|     US|Patient Stories|$17,488.00 |    $9,941.00 |      Miami|   Florida|  NULL|\n|Southern California|     US|  For Your Life| $7,264.00 |    $9,868.00 |Los Angeles|California|  NULL|\n|         South East|     US|  Hit the track|$14,114.00 |   $15,482.00 |      Miami|   Florida|    20|\n|         South East|     US|Patient Stories| $8,628.00 |   $12,622.00 |      Miami|   Florida|  NULL|\n+-------------------+-------+---------------+-----------+--------------+-----------+----------+------+\nonly showing top 10 rows"
          },
          "metadata": {}
        }
      ],
      "metadata": {},
      "source": [
        "%%pyspark\n",
        "data_path = spark.read.load('abfss://marketingdata@#STORAGE_ACCOUNT_NAME#.dfs.core.windows.net/CampaignData.csv', format='csv',header=True)\n",
        "data_path.show(10)"
      ],
      "attachments": {}
    },
    {
      "cell_type": "markdown",
      "metadata": {},
      "source": [
        "## Load into Pandas and Perform Cleansing Operations\n",
        ""
      ],
      "attachments": {}
    },
    {
      "cell_type": "code",
      "execution_count": 2,
      "outputs": [],
      "metadata": {},
      "source": [
        "%%pyspark\n",
        "from pyspark.sql.functions import *\n",
        "from pyspark.sql.types import *\n",
        "\n",
        "import numpy as np\n",
        "\n",
        "pd_df = data_path.select(\"*\").toPandas()\n",
        "\n",
        "'''Cleansing Operations: \n",
        "1. Columns Revenue, Revenue_Target: Remove '$' symbol and convert datatype to float\n",
        "2. Columns Revenue, Revenue_Target: Replace null values with 0\n",
        "3. Columns Region, Country, Product_Category, Campaign_Name: Convert columns to Camel Case\n",
        "'''\n",
        "pd_df['Revenue']= pd_df['Revenue'].replace('[\\$,]', '', regex=True).astype(float)\n",
        "pd_df['Revenue_Target']= pd_df['Revenue_Target'].replace('[\\$,]', '', regex=True).astype(float)\n",
        "pd_df['Revenue'].fillna(value=0, inplace=True)\n",
        "pd_df['Revenue_Target'].fillna(value=0, inplace=True)\n",
        "\n",
        "pd_df['Region'] = pd_df.Region.str.title()\n",
        "pd_df['Country'] = pd_df.Country.str.title()\n",
        "\n",
        "pd_df['Campaign_Name'] = pd_df.Campaign_Name.str.title()"
      ],
      "attachments": {}
    },
    {
      "cell_type": "markdown",
      "metadata": {},
      "source": [
        "## Data Transformation - Calculate Revenue Variance\n",
        ""
      ],
      "attachments": {}
    },
    {
      "cell_type": "code",
      "execution_count": 3,
      "outputs": [
        {
          "execution_count": 3,
          "output_type": "execute_result",
          "data": {
            "text/plain": "Region Country  ... RoleID  Revenue_Variance\n1  Southern California      Us  ...   NULL            -350.0\n2           South East      Us  ...     20            5610.0\n3           South East      Us  ...   NULL            8414.0\n4  Southern California      Us  ...   NULL           -1097.0\n\n[4 rows x 9 columns]"
          },
          "metadata": {}
        }
      ],
      "metadata": {},
      "source": [
        "#Create new column\n",
        "pd_df['Revenue_Variance'] = pd_df['Revenue_Target'] - pd_df['Revenue']\n",
        "\n",
        "print(pd_df[1:5])"
      ],
      "attachments": {}
    },
    {
      "cell_type": "markdown",
      "metadata": {},
      "source": [
        "## Move data to Azure Data Lake Gen2\n",
        ""
      ],
      "attachments": {}
    },
    {
      "cell_type": "code",
      "execution_count": 4,
      "outputs": [
        {
          "execution_count": 4,
          "output_type": "execute_result",
          "data": {
            "text/plain": "+-------------------+-------+---------------+-------+--------------+-----------+----------+------+----------------+\n|             Region|Country|  Campaign_Name|Revenue|Revenue_Target|       City|     State|RoleID|Revenue_Variance|\n+-------------------+-------+---------------+-------+--------------+-----------+----------+------+----------------+\n|         South East|     Us|Patient Stories|11564.0|       19306.0|      Miami|   Florida|  NULL|          7742.0|\n|Southern California|     Us|  For Your Life| 6497.0|        6147.0|Los Angeles|California|  NULL|          -350.0|\n|         South East|     Us|  Hit The Track|11620.0|       17230.0|      Miami|   Florida|    20|          5610.0|\n|         South East|     Us|Patient Stories| 9963.0|       18377.0|      Miami|   Florida|  NULL|          8414.0|\n|Southern California|     Us|  For Your Life|16850.0|       15753.0|Los Angeles|California|  NULL|         -1097.0|\n+-------------------+-------+---------------+-------+--------------+-----------+----------+------+----------------+\nonly showing top 5 rows\n\n/opt/spark/python/lib/pyspark.zip/pyspark/sql/session.py:714: UserWarning: createDataFrame attempted Arrow optimization because 'spark.sql.execution.arrow.enabled' is set to true; however, failed by the reason below:\n  'JavaPackage' object is not callable\nAttempting non-optimization as 'spark.sql.execution.arrow.fallback.enabled' is set to true."
          },
          "metadata": {}
        }
      ],
      "metadata": {},
      "source": [
        "%%pyspark\n",
        "df = spark.createDataFrame(pd_df)\n",
        "df.show(5)\n",
        "\n",
        "(df\n",
        " .coalesce(1)\n",
        " .write\n",
        " .mode(\"overwrite\")\n",
        " .option(\"header\", \"true\")\n",
        " .format(\"com.databricks.spark.csv\")\n",
        " .save('abfss://marketingdata@#STORAGE_ACCOUNT_NAME#.dfs.core.windows.net/Campaignsdata'))"
      ],
      "attachments": {}
    }
  ]
}